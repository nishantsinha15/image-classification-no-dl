{
 "cells": [
  {
   "cell_type": "code",
   "execution_count": 7,
   "metadata": {
    "collapsed": true
   },
   "outputs": [
    {
     "name": "stdout",
     "output_type": "stream",
     "text": [
      "defaultdict(<class 'int'>, {13: 500, 9: 500, 10: 500, 8: 500, 11: 500, 2: 500, 3: 500, 0: 500, 1: 500, 12: 500, 7: 500, 16: 500, 17: 500, 18: 500, 4: 500, 5: 500, 19: 500, 6: 500, 14: 500, 15: 500})\n"
     ]
    }
   ],
   "source": [
    "# open the train file\n",
    "import csv\n",
    "from collections import defaultdict\n",
    "\n",
    "def read_csv(file_name='data/sml_train.csv'):\n",
    "    x_files = []\n",
    "    y = []\n",
    "    count = defaultdict(int)\n",
    "    with open(file_name) as csv_file:\n",
    "        csv_reader = csv.reader(csv_file, delimiter=',')\n",
    "        for row in csv_reader:\n",
    "            x_files.append(row[0])\n",
    "            y.append(int(row[1]))\n",
    "            count[int(row[1])] += 1\n",
    "    # print(len(x_files), len(set(y)))\n",
    "    print(count)\n",
    "    # return x_files, y\n",
    "\n",
    "read_csv()"
   ]
  },
  {
   "cell_type": "code",
   "execution_count": null,
   "metadata": {},
   "outputs": [],
   "source": []
  }
 ],
 "metadata": {
  "kernelspec": {
   "display_name": "Python 2",
   "language": "python",
   "name": "python2"
  },
  "language_info": {
   "codemirror_mode": {
    "name": "ipython",
    "version": 2
   },
   "file_extension": ".py",
   "mimetype": "text/x-python",
   "name": "python",
   "nbconvert_exporter": "python",
   "pygments_lexer": "ipython2",
   "version": "2.7.6"
  }
 },
 "nbformat": 4,
 "nbformat_minor": 0
}
